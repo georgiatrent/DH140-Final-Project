{
 "cells": [
  {
   "cell_type": "markdown",
   "metadata": {
    "id": "lZi-vgijp3AI"
   },
   "source": [
    "# Idea for Final Project"
   ]
  },
  {
   "cell_type": "markdown",
   "metadata": {
    "id": "U1v5xnqIkYh8"
   },
   "source": [
    "This is the dataset at the NGO (called the Open Cultural Center) that I'm mostly interested in. They provide coding classes but also language classes, and this dataset is a language class. To preserve identity, I would calculate the age (based on the birthday) of each student, rather than include the birthday, and eliminate the name and email fields. The CSV file below shows the information I would keep in my analysis, except for the name field. \n",
    "\n",
    "I also think it would be interesting to find data about immigrants coming into Spain as a whole, so that I can compare the general demographic of immigrants with those who show interest in taking these language classes. There is also a separate set of data about the people who are taking coding classes, which I could also use. "
   ]
  },
  {
   "cell_type": "code",
   "execution_count": 4,
   "metadata": {
    "colab": {
     "base_uri": "https://localhost:8080/"
    },
    "id": "ArKMpcjjvUBT",
    "outputId": "f1dabf9a-0bbd-47e8-8dd4-b7b0a1f1e223"
   },
   "outputs": [
    {
     "data": {
      "text/html": [
       "<div>\n",
       "<style scoped>\n",
       "    .dataframe tbody tr th:only-of-type {\n",
       "        vertical-align: middle;\n",
       "    }\n",
       "\n",
       "    .dataframe tbody tr th {\n",
       "        vertical-align: top;\n",
       "    }\n",
       "\n",
       "    .dataframe thead th {\n",
       "        text-align: right;\n",
       "    }\n",
       "</style>\n",
       "<table border=\"1\" class=\"dataframe\">\n",
       "  <thead>\n",
       "    <tr style=\"text-align: right;\">\n",
       "      <th></th>\n",
       "      <th></th>\n",
       "      <th></th>\n",
       "      <th></th>\n",
       "      <th></th>\n",
       "      <th></th>\n",
       "      <th></th>\n",
       "      <th></th>\n",
       "      <th></th>\n",
       "      <th></th>\n",
       "      <th></th>\n",
       "      <th></th>\n",
       "      <th></th>\n",
       "      <th></th>\n",
       "      <th>Students-Migracode Profile View - Non-personally identifiable data on students (1)</th>\n",
       "    </tr>\n",
       "  </thead>\n",
       "  <tbody>\n",
       "    <tr>\n",
       "      <th>Name copy</th>\n",
       "      <th>Application date</th>\n",
       "      <th>Selected course</th>\n",
       "      <th>Gender</th>\n",
       "      <th>Country of Birth</th>\n",
       "      <th>Language(s)</th>\n",
       "      <th>Laptop</th>\n",
       "      <th>Previous experience</th>\n",
       "      <th>Educational background</th>\n",
       "      <th>Work permit</th>\n",
       "      <th>Source</th>\n",
       "      <th>Age</th>\n",
       "      <th>Is Female (for interface)</th>\n",
       "      <th>Is nonbinary + other</th>\n",
       "      <td>Younger than 30y.o (for interface)</td>\n",
       "    </tr>\n",
       "    <tr>\n",
       "      <th>Santiago</th>\n",
       "      <th>5/4/2023</th>\n",
       "      <th>Self-learning: Project Management</th>\n",
       "      <th>Man | Hombre</th>\n",
       "      <th>Argentina</th>\n",
       "      <th>English or Spanish</th>\n",
       "      <th>I have a good laptop to use</th>\n",
       "      <th>I know a little bit about the basics</th>\n",
       "      <th>University</th>\n",
       "      <th>I have a work permit in Spain</th>\n",
       "      <th>From Social Media (Facebook/Instagram/LinkedIn)</th>\n",
       "      <th>31</th>\n",
       "      <th>NaN</th>\n",
       "      <th>NaN</th>\n",
       "      <td>NaN</td>\n",
       "    </tr>\n",
       "    <tr>\n",
       "      <th>Gustavo</th>\n",
       "      <th>3/4/2023</th>\n",
       "      <th>IT Automation with Python</th>\n",
       "      <th>Man | Hombre</th>\n",
       "      <th>Brazil</th>\n",
       "      <th>English</th>\n",
       "      <th>I have a good laptop to use</th>\n",
       "      <th>I know a little bit about the basics</th>\n",
       "      <th>High School</th>\n",
       "      <th>I have a work permit in Spain</th>\n",
       "      <th>From Social Media (Facebook/Instagram/LinkedIn)</th>\n",
       "      <th>24</th>\n",
       "      <th>NaN</th>\n",
       "      <th>NaN</th>\n",
       "      <td>Yes</td>\n",
       "    </tr>\n",
       "    <tr>\n",
       "      <th>Andres</th>\n",
       "      <th>2/4/2023</th>\n",
       "      <th>Beginner: IT Support &amp; Security Course</th>\n",
       "      <th>Man | Hombre</th>\n",
       "      <th>Ecuador</th>\n",
       "      <th>Spanish</th>\n",
       "      <th>I am not sure</th>\n",
       "      <th>I don't have previous experience with coding</th>\n",
       "      <th>High School</th>\n",
       "      <th>I don't have a work permit in Spain</th>\n",
       "      <th>Through searching the internet</th>\n",
       "      <th>20</th>\n",
       "      <th>NaN</th>\n",
       "      <th>NaN</th>\n",
       "      <td>Yes</td>\n",
       "    </tr>\n",
       "    <tr>\n",
       "      <th>E. J.</th>\n",
       "      <th>1/4/2023</th>\n",
       "      <th>Beginner: IT Support &amp; Security Course</th>\n",
       "      <th>Woman | Mujer</th>\n",
       "      <th>Nigeria</th>\n",
       "      <th>English</th>\n",
       "      <th>I have a good laptop to use</th>\n",
       "      <th>I don't have previous experience with coding</th>\n",
       "      <th>University</th>\n",
       "      <th>I have a work permit in Spain</th>\n",
       "      <th>Through searching the internet</th>\n",
       "      <th>54</th>\n",
       "      <th>Yes</th>\n",
       "      <th>NaN</th>\n",
       "      <td>NaN</td>\n",
       "    </tr>\n",
       "  </tbody>\n",
       "</table>\n",
       "</div>"
      ],
      "text/plain": [
       "                                                                                                                                                                                                                                                                                                                                                           Students-Migracode Profile View - Non-personally identifiable data on students (1)\n",
       "Name copy Application date Selected course                        Gender        Country of Birth Language(s)        Laptop                      Previous experience                          Educational background Work permit                         Source                                          Age Is Female (for interface) Is nonbinary + other                 Younger than 30y.o (for interface)                                \n",
       "Santiago  5/4/2023         Self-learning: Project Management      Man | Hombre  Argentina        English or Spanish I have a good laptop to use I know a little bit about the basics         University             I have a work permit in Spain       From Social Media (Facebook/Instagram/LinkedIn) 31  NaN                       NaN                                                                 NaN                                \n",
       "Gustavo   3/4/2023         IT Automation with Python              Man | Hombre  Brazil           English            I have a good laptop to use I know a little bit about the basics         High School            I have a work permit in Spain       From Social Media (Facebook/Instagram/LinkedIn) 24  NaN                       NaN                                                                 Yes                                \n",
       "Andres    2/4/2023         Beginner: IT Support & Security Course Man | Hombre  Ecuador          Spanish            I am not sure               I don't have previous experience with coding High School            I don't have a work permit in Spain Through searching the internet                  20  NaN                       NaN                                                                 Yes                                \n",
       "E. J.     1/4/2023         Beginner: IT Support & Security Course Woman | Mujer Nigeria          English            I have a good laptop to use I don't have previous experience with coding University             I have a work permit in Spain       Through searching the internet                  54  Yes                       NaN                                                                 NaN                                "
      ]
     },
     "execution_count": 4,
     "metadata": {},
     "output_type": "execute_result"
    }
   ],
   "source": [
    "import pandas as pd\n",
    "df = pd.read_csv('Students_Migracode.csv')\n",
    "df.head()\n"
   ]
  },
  {
   "cell_type": "markdown",
   "metadata": {
    "id": "2SWxX2MQj0vY"
   },
   "source": [
    "# Responses to Readings"
   ]
  },
  {
   "cell_type": "markdown",
   "metadata": {
    "id": "zQNPuYUdj7T6"
   },
   "source": [
    "## What is Humanities Computing - 01"
   ]
  },
  {
   "cell_type": "markdown",
   "metadata": {
    "id": "zQNPuYUdj7T6"
   },
   "source": [
    "Please read \"What is Humanities Computing (and What Is Not)\"Links to an external site. by John Unsworth.\n",
    "\n",
    "Write a short paragraph (a few sentences) where you reflect critically and creatively about the material in your own words. Consider the following as you do so:\n",
    "\n",
    "Did the article offer any insights that you hope to explore during this class?\n",
    "What in the article particularly resonates (or conflicts) with your current conception of the intersection of humanities and computing?"
   ]
  },
  {
   "cell_type": "markdown",
   "metadata": {
    "id": "zQNPuYUdj7T6"
   },
   "source": [
    "Response: This article took a bit of time to digest, for though I thought I knew the meaning of each new term he brought up, I needed to re-orient my brain to accept their many meanings and interpretations. As he points out, text can be defined many different ways, and it's possible for them to all be true and valid descriptions.  It's difficult at first to invite this uncertainty, and the possibility for every structure I rely on digitally to be redefined. Though I knew a lot of Humanities Computing dealt with text analysis, it was interesting to see that even 'text' as we know it can be interpreted as an abstract concept in this context, where in regular computing, it is a fact, a truth, that text is ... well, text. Depending on what you're doing, one thing is true. Text is a string, or text is an array of characters, etc. "
   ]
  },
  {
   "cell_type": "markdown",
   "metadata": {
    "id": "zQNPuYUdj7T6"
   },
   "source": [
    "## Computer Programming as an Art - 02"
   ]
  },
  {
   "cell_type": "markdown",
   "metadata": {
    "id": "zQNPuYUdj7T6"
   },
   "source": [
    "This week's reading assignment is \"Computer Programming as an Art\" by Donald Knuth.  \n",
    "\n",
    "Donald Knuth is very well-known in computer science as the author of a set of books called \"The Art of Computer Programming,\" in which he covers many kinds of programming algorithms and their analysis.  It's also of interest to note that in the 1970's he got so frustrated with typesetting methods that he took time out to create TeX -- this became the foundation for LaTeX, the typesetting method that we can use in our Jupyter notebooks to render pretty equations with digital typesetting.\n",
    "\n",
    "Write a short paragraph where you reflect critically and creatively about the material in your own words. Consider the following as you do so:\n",
    "\n",
    "In what ways is learning Python similar to learning other artistic techniques?\n",
    "In what sense are our Jupyter notebooks and/or our Python code similar to works of art?"
   ]
  },
  {
   "cell_type": "markdown",
   "metadata": {
    "id": "zQNPuYUdj7T6"
   },
   "source": [
    "Response: \n",
    "What I have gathered about Knuth's claim - that computer programming is an art - is that each programmer must at a certain point discover what they like, what they find elegant about a program, and what they think makes a 'good' program. There is a similar refinement a painter might have in regarding paintings, i.e. knowing the techniques the other painter used, reflecting in choices the painter made (Is reality represented? Are mediums combined? Is there underpainting?), or deciding what paintings are 'tasteful'. I notice that my peers in computer science have differing 'styles' of programming. I also notice that my professors have different styles of teaching programming, which at times seems artful. Professor Eggert, for example, discusses history, relates topics to linguistics, and I think has included Knuth's book in his syllabus. He also often shares his opinions on certain syntaxes, or whether commented code is beneficial. I would consider him to be an artist. \n",
    "Relating to Python, each library you use has its own syntax and documentation. At times, they feel as though they have a certain personality - things like 'soup', or, in another example, the language OCaml (there are camel icons everywhere - a build system for OCaml is called 'dune'). This can even communicate a sense of how a library or language operates to the programmer that chooses to use it. \n",
    "I think also that Jupyter notebooks can help to illustrate the artistry of computer code, as they offer the medium of text to offer explanation or analysis. The author can also choose who is in the driver's seat: the code or the analysis. \n",
    "Sidenote: I like that he suggests that programming can be done 'pointlessly' or for fun, in the same way art can be. \n"
   ]
  },
  {
   "cell_type": "markdown",
   "metadata": {
    "id": "RF6wzFGgkWM4"
   },
   "source": [
    "## The Numbers Don't Speak for Themselves - 04"
   ]
  },
  {
   "cell_type": "markdown",
   "metadata": {
    "id": "zQNPuYUdj7T6"
   },
   "source": [
    "This week's reading assignment is \"The Numbers Don’t Speak for Themselves\"Links to an external site. by Catherine D'Ignazio and Lauren Klein, Chapter 6 of their book \"Data Feminism.\"  \n",
    "\n",
    "Write a short paragraph where you reflect critically and creatively about the material in your own words. Consider the following as you do so:\n",
    "\n",
    "The code we've been writing so far has been relatively simple.  On the other hand, we will soon start writing code to gather and analyze data related to human beings and their behavior.  Taking one of the datasets of interest that you identified when completing Assignment #1, what issues would need to be considered about whether that data has been silenced, clouded, or misrepresented?"
   ]
  },
  {
   "cell_type": "markdown",
   "metadata": {
    "id": "zQNPuYUdj7T6"
   },
   "source": [
    "Response: \n",
    "I liked the way that this chapter reported data as already being 'cooked'. At first glance, almost all of the datasets I encounter I view with a bias that it is representative, that what it claims to represent is mostly true. But this blindness, supported by the common idea that data can be 'raw', can lead to errors in judgement like the example this chapter primarily discusses, the GDELT project. Even simply considering data to be 'cooked' rather than 'raw' helps to redirect this bias on first pass. \n",
    "One of the datasets I found of interest was the Third-Republic France Geographic Information System (1870-1940). It claims to be a 'comprehensigve geographic information system', but I wonder if areas whose population had less education have gaps in information, especially for this time period. \n",
    "Additionally, it's sort of difficult to garner anything interesting based on the page containing the dataset. Their article is behind a paywall, the data requires downloading a zip file, and so does reading any kind of documentation. It says that this dataset has been cited ~5 times, which may be a lot for this niche of a dataset, but also might hint at the inaccessible way in which it's presented. \n"
   ]
  },
  {
   "cell_type": "markdown",
   "metadata": {
    "id": "62N0CByJkbyP"
   },
   "source": [
    "## An Illustrated Introduction to APIs - 05"
   ]
  },
  {
   "cell_type": "markdown",
   "metadata": {
    "id": "zQNPuYUdj7T6"
   },
   "source": [
    "Read the following:\n",
    "\n",
    "\"An Illustrated Introduction to APIs\" by Xavier Adam\n",
    "What potential ethical dilemmas might be faced by developers who integrate APIs into their applications? \n"
   ]
  },
  {
   "cell_type": "markdown",
   "metadata": {
    "id": "zQNPuYUdj7T6"
   },
   "source": [
    "Response: \n",
    "For one, when I click on the links that are meant to display London's weather, the link doesn't work. It's broken, because the article relies on an outside source to display data. APIs can quickly become obsolete, or stop being supported, in a way that is completely unpredictable for the designer or programmer. Also, an API that used to be free can later require payment, or for a project to fulfil certain requirements. If the influx of data through an API is very important, is it the responsibility of the API developer to notify dependent projects of changes? This doesn't really make sense, but it does emphasize that APIs are different from languages as they can be updated without notice, and the programmer doesn't download a new 'version', so they aren't being notified of any changes that might break their program. \n"
   ]
  },
  {
   "cell_type": "markdown",
   "metadata": {
    "id": "zQNPuYUdj7T6"
   },
   "source": [
    "## Seven Ways Humanists Are Using Computers to Understand Text - 06"
   ]
  },
  {
   "cell_type": "markdown",
   "metadata": {
    "id": "zQNPuYUdj7T6"
   },
   "source": [
    "This reading assignment has two articles.  The first is required, the second is optional (but highly recommended):\n",
    "\n",
    "\"Seven ways humanists are using computers to understand text.\"Links to an external site. by Ted Underwood\n",
    "\"What Every Programmer Absolutely, Positively Needs To Know About Encodings And Character Sets To Work With Text\"Links to an external site. by David C. Zentgraf\n",
    "Take the article \"Seven ways...\" and write a short reflection on which one of the ways appeals to you the most, why, and what might be a fun topic for you to explore the method.  [If you can think of an 8th way, that is welcome too.]"
   ]
  },
  {
   "cell_type": "markdown",
   "metadata": {
    "id": "zQNPuYUdj7T6"
   },
   "source": [
    "Response: \n",
    "The method that appeals to me the most is #1, Visualize single texts. I think I find it so appealing because it is a way to become spatially immersed in a 'text' in a way that reading doesn't, as to have the sensation of being immersed in reading one must forget that they are reading at all. In order to feel immersed in a visual representation is sometimes easier, especially if it's a representation of a text that has already been consumed. As the post reflects, these fictional networks can be very different from social networks, which is an intriguing thing to explore: if you can make a similar network using reality. Likely, it would be far more misleading, and particularly prone to bias, but if what you're creating is purely to represent one opinionated idea of reality, it could still have some merit. \n",
    "\n",
    "New words: locution - word or phrase, in regards to style or idiom\n",
    "diachronic - how something (usually language) has evolved over time \n",
    "epistemologically - relating to the study of the nature, origin, and limits of human knowledge\n",
    "hermeneutic - concerning interpretation, especially of texts or the bible. "
   ]
  },
  {
   "cell_type": "markdown",
   "metadata": {
    "id": "62N0CByJkbyP"
   },
   "source": [
    "## The Smallness of Large Language Models - 07"
   ]
  },
  {
   "cell_type": "markdown",
   "metadata": {
    "id": "zQNPuYUdj7T6"
   },
   "source": [
    "Read the following article that discusses LLMs:\n",
    "\n",
    "\"The Smallness of Large Language Models.Links to an external site.\" by Peter J. Denning\n",
    "Tools based on LLMs are becoming increasing prevalent, including chatbots like ChatGPT and code completion tools like Copilot.  Write a short reflection in which you discuss your use of any AI tools based on LLMs and what you see as the key potential advantages, limitations, or dangers of using them"
   ]
  },
  {
   "cell_type": "markdown",
   "metadata": {
    "id": "zQNPuYUdj7T6"
   },
   "source": [
    "Response: \n",
    "I often use Chat-GPT as a means of creating a sketch of an assignment or project, similar to how I might sribble on a page or canvas if the blankness is scaring me into not starting. I don't really trust it, though as my desperation in a subject rises, I might pray that it's right when I know that it probably won't be. I do think that it helps to provide an outline, a starting point, and can give suggestions, such as libraries to look into in Python. \n",
    "\n",
    "With that being said, I don't like that it's making my social media feeds confusing cesspools of generated content - I used to go on Instagram to see a few artists I enjoyed, and now I'm led into time-consuming scrolls, full of reels where a strange AI-generated video is captioned with a response about Russia's military history that often cuts off mid-sentence at the character limit. Though I know that new things are always scary before they become commonplace, I'm scared that the artists I used to look up to will struggle to promote their art, be stolen from by AI learning models, and will get fewer customers. The LLMs that use existing art to generate their photos will have less and less original art to base their probabilities. They might even start being trained on their own output, as it clouds up social media and even Stock photo sites. Walking around the city, I see posters for events that, on second glance, are clearly generated by AI. It's so creepy and soulless that I want to scream.\n",
    "I want to say that typing a prompt into an image generator or music generator or code generator does not make you a creative person. But I know that people said that about Photoshop, or probably oil paint when that first came out. Soon, a sort of skill in navigating AI will be respected and even useful. I just hate it. I can't like it. If I see one more old woman with 300+ wrinkles, seven fingers, holding 47 cats in the sky, I'm breaking my phone. "
   ]
  },
  {
   "cell_type": "markdown",
   "metadata": {
    "id": "62N0CByJkbyP"
   },
   "source": [
    "## The Smallness of Large Language Models - 07"
   ]
  }
 ],
 "metadata": {
  "colab": {
   "provenance": []
  },
  "kernelspec": {
   "display_name": "Python 3 (ipykernel)",
   "language": "python",
   "name": "python3"
  },
  "language_info": {
   "codemirror_mode": {
    "name": "ipython",
    "version": 3
   },
   "file_extension": ".py",
   "mimetype": "text/x-python",
   "name": "python",
   "nbconvert_exporter": "python",
   "pygments_lexer": "ipython3",
   "version": "3.11.5"
  }
 },
 "nbformat": 4,
 "nbformat_minor": 4
}
